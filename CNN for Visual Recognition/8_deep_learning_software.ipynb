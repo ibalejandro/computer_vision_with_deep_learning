{
 "cells": [
  {
   "cell_type": "markdown",
   "metadata": {
    "collapsed": true
   },
   "source": [
    "- GPU: rendering computer graphics.\n",
    "\n",
    "- NVIDIA: GPUs for Deep Learning.\n",
    "\n",
    "- CPU: few cores but each much more faster and capable. Sequential tasks of different flavors.\n",
    "\n",
    "- GPU: thousends of cores each slower and \"dumber\". Parallel tasks of the same flavor. Have own memory."
   ]
  },
  {
   "cell_type": "markdown",
   "metadata": {},
   "source": [
    "- CUDA: write C-like code that runs directly on the GPU.\n",
    "\n",
    "- cuDNN: high-level API for DL operations on GPU. Always use this because it is optimized.\n",
    "\n",
    "- Use multiple CPU threads to prefetch data, buffering it in RAM."
   ]
  },
  {
   "cell_type": "markdown",
   "metadata": {},
   "source": [
    "- Tensorflow is from Google. For production and mobile.\n",
    "\n",
    "- Easily build computational graphs, compute gradients and run it all efficiently on GPU.\n",
    "\n",
    "- Pattern: define computational graph (no computation) and run the graph many times (within a Session).\n",
    "\n",
    "- Placeholders: input to different parts of the graph that is fetched on each call.\n",
    "\n",
    "- Variable: persists in the graph between calls.\n",
    "\n",
    "- Add .assign() operations to update variables inside the graph.\n",
    "\n",
    "- Add \"dummy node\" that depends on the things that you want to be executed (updates = tf.group(new_w1, new_w2). Then, tell graph to execute this node. The .group(9) operations returns None.\n",
    "\n",
    "- Can use an optimizer to compute gradients and update weights.\n",
    "\n",
    "- tf.layers.dense() automatically sets up weight and bias for us."
   ]
  },
  {
   "cell_type": "markdown",
   "metadata": {},
   "source": [
    "- Keras: high-level wrapper. It also has pretrained models.\n",
    "\n",
    "- Tensorboard: add logging to your code."
   ]
  },
  {
   "cell_type": "markdown",
   "metadata": {},
   "source": [
    "- PyTorch (research): Tensor (ndarray that runs on GPU), Variable (node in computational graph that stores data and gradient), Module (high-level feature for NN layers).\n",
    "\n",
    "- x.data is a Tensor, x.grad is a Variable of gradients, x.grad.data is a Tensor of gradients.\n",
    "\n",
    "- loss.backwards() computes the gradients.\n",
    "\n",
    "- New graph everytime we do a forward pass.\n",
    "\n",
    "- nn package: high-level API.\n",
    "\n",
    "- Use optimizer for different update rules.\n",
    "\n",
    "- DataLoaders: wraps a dataset and provides minibatching, shuffling, multi-threading.\n",
    "\n",
    "- Offers pretrained models (AlexNet, VGG, ResNet).\n",
    "\n",
    "- Visdom is like Tensorboard."
   ]
  },
  {
   "cell_type": "markdown",
   "metadata": {},
   "source": [
    "- Static graphs can be serialized for later reuse.\n",
    "\n",
    "- Dynamic graphs: graph building and execution are interwined, so you always need the original code for later use.\n",
    "\n",
    "- tf.cond() and tf.foldl(): control flow operators.\n",
    "\n",
    "- Dynamic graph applications: RNN, Neural Module Networks (ask things to the model regarding an image)."
   ]
  },
  {
   "cell_type": "markdown",
   "metadata": {},
   "source": [
    "- Caffee2 (production): similar to TF, can serialize models, works on Android/iOS."
   ]
  },
  {
   "cell_type": "code",
   "execution_count": null,
   "metadata": {},
   "outputs": [],
   "source": [
    ""
   ]
  }
 ],
 "metadata": {
  "kernelspec": {
   "display_name": "Python 2",
   "language": "python",
   "name": "python2"
  },
  "language_info": {
   "codemirror_mode": {
    "name": "ipython",
    "version": 2.0
   },
   "file_extension": ".py",
   "mimetype": "text/x-python",
   "name": "python",
   "nbconvert_exporter": "python",
   "pygments_lexer": "ipython2",
   "version": "2.7.6"
  }
 },
 "nbformat": 4,
 "nbformat_minor": 0
}