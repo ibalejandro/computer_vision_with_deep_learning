{
 "cells": [
  {
   "cell_type": "markdown",
   "metadata": {
    "collapsed": true
   },
   "source": [
    "- Turning FC layer into convolutional layer: instead of flattening, use k filters (k = # units in virtually flattened array) of same resolution-depth as the image representation."
   ]
  },
  {
   "cell_type": "markdown",
   "metadata": {},
   "source": [
    "- Convolution implementation of sliding windows for saving computations: execute multiple forward passes in a single pass considering that computations are share across different regions of the image representation.\n",
    "\n",
    "- If the result is a 2X2x400 representaion, the upper-left corner of this representation is the output related to the upper-left crop of the original image, the upper-right corner of this representation is the output related to the upper-right crop of the original image, etc."
   ]
  },
  {
   "cell_type": "code",
   "execution_count": null,
   "metadata": {},
   "outputs": [],
   "source": [
    ""
   ]
  }
 ],
 "metadata": {
  "kernelspec": {
   "display_name": "Python 2",
   "language": "python",
   "name": "python2"
  },
  "language_info": {
   "codemirror_mode": {
    "name": "ipython",
    "version": 2.0
   },
   "file_extension": ".py",
   "mimetype": "text/x-python",
   "name": "python",
   "nbconvert_exporter": "python",
   "pygments_lexer": "ipython2",
   "version": "2.7.6"
  }
 },
 "nbformat": 4,
 "nbformat_minor": 0
}