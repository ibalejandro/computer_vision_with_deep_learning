{
 "cells": [
  {
   "cell_type": "markdown",
   "metadata": {
    "collapsed": true
   },
   "source": [
    "- Localization: classification + localization.\n",
    "\n",
    "- Detection: what and where (multiple classes)."
   ]
  },
  {
   "cell_type": "markdown",
   "metadata": {},
   "source": [
    "- Localization: add 4 more output units with information of the bounding-box (bx, by, bh, bw). Upper-left corner (0, 0) and bottom-right corner (1, 1).\n",
    "\n",
    "- The input of the network contains the bounding-box information."
   ]
  },
  {
   "cell_type": "markdown",
   "metadata": {},
   "source": [
    "- The output is y = [0/1 (object absence/presence), bx, by, bh, bw, class_1, class_2, class_3].\n",
    "\n",
    "- Loss function is mean sum of squared errors if there is an object. If there is not an object, sum of squared errors between the presence indicator of label and prediction."
   ]
  },
  {
   "cell_type": "code",
   "execution_count": null,
   "metadata": {},
   "outputs": [],
   "source": [
    ""
   ]
  }
 ],
 "metadata": {
  "kernelspec": {
   "display_name": "Python 2",
   "language": "python",
   "name": "python2"
  },
  "language_info": {
   "codemirror_mode": {
    "name": "ipython",
    "version": 2.0
   },
   "file_extension": ".py",
   "mimetype": "text/x-python",
   "name": "python",
   "nbconvert_exporter": "python",
   "pygments_lexer": "ipython2",
   "version": "2.7.6"
  }
 },
 "nbformat": 4,
 "nbformat_minor": 0
}