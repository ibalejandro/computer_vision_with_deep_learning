{
 "cells": [
  {
   "cell_type": "markdown",
   "metadata": {
    "collapsed": true
   },
   "source": [
    "- Challenges: point of view, illumination, deformation, occlusion (part of objects), background clutter, intraclass variation.\n",
    "\n",
    "- There is no really explicit (intuitive) algorithm for image classification."
   ]
  },
  {
   "cell_type": "markdown",
   "metadata": {},
   "source": [
    "- CIFAR10: 32 X 32 pixels images (10 classes)."
   ]
  },
  {
   "cell_type": "markdown",
   "metadata": {},
   "source": [
    "- L1 (Manhattan) is a distance metric for calculating distance between images. It works pixel-wise as: summation(|train_image - test_image|).\n",
    "\n",
    "- In practice, we want a classifier to be slow at training but fast at testing.\n",
    "\n",
    "- L2 (Euclidean) distance works also pixel-wise as: sqrt(summation((train_image - test_image)^2)). This distance does not depend on the coordinate-system."
   ]
  },
  {
   "cell_type": "markdown",
   "metadata": {},
   "source": [
    "- Hyperparameters: choices about the algorithm that we set rather than learn. This is problem-dependent.\n",
    "\n",
    "- Divide data randomly into train-validation-test.\n",
    "\n",
    "- The random division alliviates the problem of non-representative test \n",
    "sets.\n",
    "\n",
    "- K-NN does not capture perceptual differences between images."
   ]
  },
  {
   "cell_type": "markdown",
   "metadata": {},
   "source": [
    "- A linear classifier is the most basic building-block of a deep ANN. It is of the form: f(x, W) = Wx + b. 'b' gives some independent preferences for some classes over another.\n",
    "\n",
    "- A parametric approach does not need all training data at test time. It just needs a parameter W (weights) to produce the probability scores.\n",
    "\n",
    "- Linear classification is a template matching approach. W's rows correspond to a template of each class and the dot product between it and a test image indicates the similarity between them (cosine similarity).\n",
    "\n",
    "- The W's rows can be unravelled into images and each class template can be seen.\n",
    "\n",
    "- A linear classifier limitation is that it only learns one averaged template per category. This is problematic for variations on data."
   ]
  },
  {
   "cell_type": "code",
   "execution_count": null,
   "metadata": {},
   "outputs": [],
   "source": [
    ""
   ]
  }
 ],
 "metadata": {
  "kernelspec": {
   "display_name": "Python 2",
   "language": "python",
   "name": "python2"
  },
  "language_info": {
   "codemirror_mode": {
    "name": "ipython",
    "version": 2.0
   },
   "file_extension": ".py",
   "mimetype": "text/x-python",
   "name": "python",
   "nbconvert_exporter": "python",
   "pygments_lexer": "ipython2",
   "version": "2.7.6"
  }
 },
 "nbformat": 4,
 "nbformat_minor": 0
}