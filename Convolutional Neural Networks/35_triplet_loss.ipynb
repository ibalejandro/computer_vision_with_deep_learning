{
 "cells": [
  {
   "cell_type": "markdown",
   "metadata": {
    "collapsed": true
   },
   "source": [
    "- Minimize the distance between anchor (original) and positive and maximize the distance between anchor and negative.\n",
    "\n",
    "- d(A, P) - d(A, N) + alpha <= 0 (alpha is added to avoid the trivial solution)."
   ]
  },
  {
   "cell_type": "markdown",
   "metadata": {},
   "source": [
    "- Loss function: L(A, P, N) = max((||f(A) - f(P)||^2 - ||f(A) - f(N)||^2), 0).\n",
    "\n",
    "- J = sum(i = 1, m)[ L(A(i), P(i), N(i)) ]."
   ]
  },
  {
   "cell_type": "markdown",
   "metadata": {},
   "source": [
    "- Choose triplets (A, P, N) that are hard to train on. It makes more difficult to satisfy the margin but increases the computational efficiency of the learning algorithm."
   ]
  },
  {
   "cell_type": "code",
   "execution_count": null,
   "metadata": {},
   "outputs": [],
   "source": [
    ""
   ]
  }
 ],
 "metadata": {
  "kernelspec": {
   "display_name": "Python 2",
   "language": "python",
   "name": "python2"
  },
  "language_info": {
   "codemirror_mode": {
    "name": "ipython",
    "version": 2.0
   },
   "file_extension": ".py",
   "mimetype": "text/x-python",
   "name": "python",
   "nbconvert_exporter": "python",
   "pygments_lexer": "ipython2",
   "version": "2.7.6"
  }
 },
 "nbformat": 4,
 "nbformat_minor": 0
}