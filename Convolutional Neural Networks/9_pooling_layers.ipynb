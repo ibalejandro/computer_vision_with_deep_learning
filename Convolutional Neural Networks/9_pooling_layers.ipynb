{
 "cells": [
  {
   "cell_type": "markdown",
   "metadata": {
    "collapsed": true
   },
   "source": [
    "- Pooling helps by reducing the size of the image representation to speed up the computation.\n",
    "\n",
    "- The intuiton behind Max pooling is that preserves the more significant features detected anywhere on the image.\n",
    "\n",
    "- Max pooling has two hyperparameters (filter size and stride) but no parameters to learn. By default, f = 2 and s = 2.\n",
    "\n",
    "- Max pooling is comptued independently per channel on the input image."
   ]
  },
  {
   "cell_type": "code",
   "execution_count": null,
   "metadata": {},
   "outputs": [],
   "source": [
    ""
   ]
  }
 ],
 "metadata": {
  "kernelspec": {
   "display_name": "Python 2",
   "language": "python",
   "name": "python2"
  },
  "language_info": {
   "codemirror_mode": {
    "name": "ipython",
    "version": 2.0
   },
   "file_extension": ".py",
   "mimetype": "text/x-python",
   "name": "python",
   "nbconvert_exporter": "python",
   "pygments_lexer": "ipython2",
   "version": "2.7.6"
  }
 },
 "nbformat": 4,
 "nbformat_minor": 0
}