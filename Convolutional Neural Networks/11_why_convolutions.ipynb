{
 "cells": [
  {
   "cell_type": "markdown",
   "metadata": {
    "collapsed": true
   },
   "source": [
    "- Advantages of CNN:  \n",
    "    \n",
    "    - Parameter sharing: you apply the same filter (same parameters) on different locations over the whole image.\n",
    "\n",
    "    - Sparsity of connections: in each layer, each output value depends only on a small number of inputs. There is a set of K neurons for each particular patch of the original image."
   ]
  },
  {
   "cell_type": "markdown",
   "metadata": {},
   "source": [
    "- CNN's structure is good at capturing translation invariance. An image of label 'a' shifted a couple pixels is still an image of label 'a' because the features shouldn't change too much."
   ]
  },
  {
   "cell_type": "code",
   "execution_count": null,
   "metadata": {},
   "outputs": [],
   "source": [
    ""
   ]
  }
 ],
 "metadata": {
  "kernelspec": {
   "display_name": "Python 2",
   "language": "python",
   "name": "python2"
  },
  "language_info": {
   "codemirror_mode": {
    "name": "ipython",
    "version": 2.0
   },
   "file_extension": ".py",
   "mimetype": "text/x-python",
   "name": "python",
   "nbconvert_exporter": "python",
   "pygments_lexer": "ipython2",
   "version": "2.7.6"
  }
 },
 "nbformat": 4,
 "nbformat_minor": 0
}