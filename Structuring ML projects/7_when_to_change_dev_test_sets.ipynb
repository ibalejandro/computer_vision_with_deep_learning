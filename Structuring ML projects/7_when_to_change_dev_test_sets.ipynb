{
 "cells": [
  {
   "cell_type": "markdown",
   "metadata": {
    "collapsed": true
   },
   "source": [
    "- If you find that the evaluation metric is not giving the correct ranked order preference, it is necessary to define a new evaluation metric that better captures your preferences."
   ]
  },
  {
   "cell_type": "markdown",
   "metadata": {},
   "source": [
    "- Placing the target (metric) is the first step.\n",
    "\n",
    "- Shooting the target is the second step (maybe changing the defined metric that the network is optimizing)."
   ]
  },
  {
   "cell_type": "markdown",
   "metadata": {},
   "source": [
    "- If doing well on your metric + dev/test set does not correspond to doing well on your application, change your metric and/or dev/test."
   ]
  },
  {
   "cell_type": "code",
   "execution_count": null,
   "metadata": {},
   "outputs": [],
   "source": [
    ""
   ]
  }
 ],
 "metadata": {
  "kernelspec": {
   "display_name": "Python 2",
   "language": "python",
   "name": "python2"
  },
  "language_info": {
   "codemirror_mode": {
    "name": "ipython",
    "version": 2.0
   },
   "file_extension": ".py",
   "mimetype": "text/x-python",
   "name": "python",
   "nbconvert_exporter": "python",
   "pygments_lexer": "ipython2",
   "version": "2.7.6"
  }
 },
 "nbformat": 4,
 "nbformat_minor": 0
}