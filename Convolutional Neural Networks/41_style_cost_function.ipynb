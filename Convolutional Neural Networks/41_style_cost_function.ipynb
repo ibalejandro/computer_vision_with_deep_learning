{
 "cells": [
  {
   "cell_type": "markdown",
   "metadata": {
    "collapsed": true
   },
   "source": [
    "- Say you are using layer l to measure \"style\".\n",
    "\n",
    "- Style: correlation between activations across different channels."
   ]
  },
  {
   "cell_type": "markdown",
   "metadata": {},
   "source": [
    "- Two channels are highly correlated if whatever part of the image has a certain characteristic A, that part of the image will probably also have a certain characteristic B.\n",
    "\n",
    "- Correlation: how often certain characteristics tend to occur or not together."
   ]
  },
  {
   "cell_type": "markdown",
   "metadata": {},
   "source": [
    "- Compare the correlation between channels between the Generated image and the Style image to determine whether the style was already transferred or not.\n",
    "\n",
    "- It is not actually correlation but \"unnormalized cross covariance\"."
   ]
  },
  {
   "cell_type": "markdown",
   "metadata": {},
   "source": [
    "- Compute the \"style matrix\" (called G because of \"Gram matrix\") of Generated image and Style image.\n",
    "\n",
    "- The G matrix is of size num_channels x num_channels in layer l. The value of unnormalized cross covariance between channel 0 and channel 1 (G[0][1]) is calculated multiplying channel[0] * channel[1] of the image representation in layer l elementwise and then, summing up the resulting matrix to obtain a single value."
   ]
  },
  {
   "cell_type": "markdown",
   "metadata": {},
   "source": [
    "- J(S, Generated): sum(i = 1, l)[ lambda(l) * (1 / ((2*h(l)*w(l)*c(l))^2)) * ||G(l)(S) - G(l)(G)||^2 ]."
   ]
  },
  {
   "cell_type": "code",
   "execution_count": null,
   "metadata": {},
   "outputs": [],
   "source": [
    ""
   ]
  }
 ],
 "metadata": {
  "kernelspec": {
   "display_name": "Python 2",
   "language": "python",
   "name": "python2"
  },
  "language_info": {
   "codemirror_mode": {
    "name": "ipython",
    "version": 2.0
   },
   "file_extension": ".py",
   "mimetype": "text/x-python",
   "name": "python",
   "nbconvert_exporter": "python",
   "pygments_lexer": "ipython2",
   "version": "2.7.6"
  }
 },
 "nbformat": 4,
 "nbformat_minor": 0
}