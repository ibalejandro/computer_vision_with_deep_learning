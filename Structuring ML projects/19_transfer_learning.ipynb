{
 "cells": [
  {
   "cell_type": "markdown",
   "metadata": {
    "collapsed": true
   },
   "source": [
    "- Use the parameters of an already trained network (fix them or not depending on the size of the new data) and reinitialize the last layer's parameters. Then, fit your new data using that network.\n",
    "\n",
    "- Transfer learning: pre-training (low-leve features) + fine-tuning. It boosts the learning process.\n",
    "\n",
    "- This technique makes sense if you have a lot of data of the problem you are transfering from and few data on the problem you are transfering to."
   ]
  },
  {
   "cell_type": "code",
   "execution_count": null,
   "metadata": {},
   "outputs": [],
   "source": [
    ""
   ]
  }
 ],
 "metadata": {
  "kernelspec": {
   "display_name": "Python 2",
   "language": "python",
   "name": "python2"
  },
  "language_info": {
   "codemirror_mode": {
    "name": "ipython",
    "version": 2.0
   },
   "file_extension": ".py",
   "mimetype": "text/x-python",
   "name": "python",
   "nbconvert_exporter": "python",
   "pygments_lexer": "ipython2",
   "version": "2.7.6"
  }
 },
 "nbformat": 4,
 "nbformat_minor": 0
}