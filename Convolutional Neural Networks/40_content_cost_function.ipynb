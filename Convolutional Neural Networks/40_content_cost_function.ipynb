{
 "cells": [
  {
   "cell_type": "markdown",
   "metadata": {
    "collapsed": true
   },
   "source": [
    "- Say you use hidden layer l to compute content cost.\n",
    "\n",
    "- Let a[l][C] and a[l][G] be the activation of layer l on the images. If  a[l][C] and a[l][G] are similar, both images have similar content.\n",
    "\n",
    "- Jcontent(C, G) = (1/2)||a[l][C] - a[l][G]||^2."
   ]
  },
  {
   "cell_type": "code",
   "execution_count": null,
   "metadata": {},
   "outputs": [],
   "source": [
    ""
   ]
  }
 ],
 "metadata": {
  "kernelspec": {
   "display_name": "Python 2",
   "language": "python",
   "name": "python2"
  },
  "language_info": {
   "codemirror_mode": {
    "name": "ipython",
    "version": 2.0
   },
   "file_extension": ".py",
   "mimetype": "text/x-python",
   "name": "python",
   "nbconvert_exporter": "python",
   "pygments_lexer": "ipython2",
   "version": "2.7.6"
  }
 },
 "nbformat": 4,
 "nbformat_minor": 0
}