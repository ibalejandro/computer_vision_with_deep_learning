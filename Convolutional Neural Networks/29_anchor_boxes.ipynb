{
 "cells": [
  {
   "cell_type": "markdown",
   "metadata": {
    "collapsed": true
   },
   "source": [
    "- To classify overlapping objects, define anchor boxes that pre-set the kind of bounding-boxes that are expected for detecting each class. The output must have data related to each of the anchor boxes.\n",
    "\n",
    "- Each object in training image is assigned to the anchor box with highest IoU with respect to the object's natural shape."
   ]
  },
  {
   "cell_type": "markdown",
   "metadata": {},
   "source": [
    "- Each grid cell has a target label that could be encoded as a block for each pre-defined anchor box. If two anchor boxes were pre-defined and a grid cell contains a pedestrian and a car, the first block represents the object of shape equals to the corresponding anchor box i.e. the presence of a pedestrian, his bounding-box and three class-probabilities (1, 0, 0), whereas the second block represents the object of shape equals to the corresponding anchor box i.e. the presence of a car, its bounding-box and three class-probabilities (0, 1, 0).\n",
    "\n",
    "- If a grid cell contains only one object of shape equal to anchor box 2, then the anchor box 1 block will have a 0 for the presence of an object with shape equal to that anchor box and the other values of this block would be '?'."
   ]
  },
  {
   "cell_type": "code",
   "execution_count": null,
   "metadata": {},
   "outputs": [],
   "source": [
    ""
   ]
  }
 ],
 "metadata": {
  "kernelspec": {
   "display_name": "Python 2",
   "language": "python",
   "name": "python2"
  },
  "language_info": {
   "codemirror_mode": {
    "name": "ipython",
    "version": 2.0
   },
   "file_extension": ".py",
   "mimetype": "text/x-python",
   "name": "python",
   "nbconvert_exporter": "python",
   "pygments_lexer": "ipython2",
   "version": "2.7.6"
  }
 },
 "nbformat": 4,
 "nbformat_minor": 0
}